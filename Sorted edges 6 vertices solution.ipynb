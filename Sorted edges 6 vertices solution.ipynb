{
 "cells": [
  {
   "cell_type": "markdown",
   "metadata": {},
   "source": [
    "# Sorted Edges\n",
    "We want to solve a problem like this one:\n",
    "![title](sorted_edges_example.png)"
   ]
  },
  {
   "cell_type": "code",
   "execution_count": 536,
   "metadata": {},
   "outputs": [],
   "source": [
    "first_row=[45,23,55,32,46]\n",
    "second_row=[57,15,43,20]\n",
    "third_row=[18,7,12]\n",
    "fourth_row=[29,21]\n",
    "fifth_row=[35]\n",
    "\n",
    "row1=['A','--']+first_row\n",
    "row2=['B']+[row1[2]]+['--']+second_row\n",
    "row3=['C']+[row1[3],row2[3]]+['--']+third_row\n",
    "row4=['D']+[row1[4],row2[4],row3[4]]+['--']+fourth_row\n",
    "row5=['E']+[row1[5],row2[5],row3[5],row4[5]]+['--']+fifth_row\n",
    "row6=['F']+[row1[6],row2[6],row3[6],row4[6], row5[6]]+['--']\n",
    "tbl=[row1, row2,row3,row4,row5,row6]   "
   ]
  },
  {
   "cell_type": "code",
   "execution_count": 537,
   "metadata": {},
   "outputs": [],
   "source": [
    "# Create a list of lists\n",
    "def make_l_a (row):\n",
    "    a=list('FEDCBA')\n",
    "    while len(a)-len(row)>1:\n",
    "        a.pop()\n",
    "    l=a.pop()\n",
    "    a.reverse()\n",
    "    return l,a,row\n",
    "\n",
    "def add_to_list (l,a, row):\n",
    "    while len(a):\n",
    "        d.append([l+a.pop(),row.pop()])\n",
    "        \n",
    "def add_row_to_list(row):\n",
    "    l,a,row=make_l_a(row)\n",
    "    add_to_list (l,a,row)\n",
    "        \n",
    "d=[]\n",
    "add_row_to_list(first_row)\n",
    "add_row_to_list(second_row)\n",
    "add_row_to_list(third_row)\n",
    "add_row_to_list(fourth_row)\n",
    "add_row_to_list(fifth_row)\n",
    "sorted_d = sorted(d, key=lambda li: li[1])"
   ]
  },
  {
   "cell_type": "code",
   "execution_count": 538,
   "metadata": {},
   "outputs": [
    {
     "name": "stdout",
     "output_type": "stream",
     "text": [
      "['CE', 'CF']\n",
      "[['CE', 7, 'Ok'], ['CF', 12, 'Ok'], ['BD', 15], ['CD', 18], ['BF', 20], ['DF', 21], ['AC', 23], ['DE', 29], ['AE', 32], ['EF', 35], ['BE', 43], ['AB', 45], ['AF', 46], ['AD', 55], ['BC', 57]]\n",
      "{'A': 0, 'B': 0, 'C': 0, 'D': 0, 'E': 0, 'F': 0}\n"
     ]
    }
   ],
   "source": [
    "path=[sorted_d[0][0],sorted_d[1][0]]\n",
    "\n",
    "sln=sorted_d\n",
    "sln[0].append('Ok')\n",
    "sln[1].append('Ok')\n",
    "\n",
    "count={}\n",
    "for h in 'ABCDEF':\n",
    "    count[h]=0\n",
    "    \n",
    "print(path)\n",
    "print(sln)\n",
    "print(count)\n"
   ]
  },
  {
   "cell_type": "code",
   "execution_count": 539,
   "metadata": {},
   "outputs": [],
   "source": [
    "def count_elts_path (pair,count):\n",
    "    for r in pair:\n",
    "        count[r]=count[r]+1\n",
    "count_elts_path (path[0],count)    \n",
    "count_elts_path (path[1],count)  \n",
    "\n",
    "def is_three_vertex (sln_index,sln,count):\n",
    "    pair=sln[sln_index][0]\n",
    "    condition=count[pair[0]]>1 or count[pair[1]]>1\n",
    "    if condition and sum(count.values())<12:\n",
    "        sln[sln_index].append('Vertex of degree 3')\n",
    "    elif sum(count.values()) == 12:\n",
    "        sln[sln_index].append('--')\n",
    "    return condition\n",
    "\n",
    "def reverse (pair):\n",
    "    a=list(pair)\n",
    "    a.reverse()\n",
    "    return ''.join(a)"
   ]
  },
  {
   "cell_type": "code",
   "execution_count": 540,
   "metadata": {},
   "outputs": [],
   "source": [
    "def build_circuit(small_circ,new_path):\n",
    "    for pair in 5*new_path:\n",
    "        rev_pair=reverse(pair)\n",
    "        \n",
    "        condition_1=pair not in small_circ\n",
    "        condition_2=rev_pair not in small_circ\n",
    "        \n",
    "        if condition_1 and condition_2:\n",
    "            if pair[0]==small_circ[-1][1]:\n",
    "                small_circ.append(pair)\n",
    "            elif rev_pair[0]==small_circ[-1][1]:\n",
    "                small_circ.append(rev_pair)\n",
    "        if small_circ[0][0] == small_circ[-1][-1]:\n",
    "            return small_circ\n",
    "    return []\n",
    "\n",
    "def write_a_circ(circ):\n",
    "    circuit=[circ[0][0]]\n",
    "    for c in circ:\n",
    "        circuit.append(c[1])\n",
    "    return ''.join(circuit)\n",
    "\n",
    "def contains_small_circuit (sln_index,sln,path):\n",
    "    new_path=[sln[sln_index][0]]+path\n",
    "    for p in new_path:\n",
    "        circ=build_circuit([p],new_path)\n",
    "        if 0<len(circ)<6:\n",
    "            c=write_a_circ(circ)\n",
    "            sln[sln_index].append('Small circuit: '+ c)\n",
    "            return c\n",
    "        elif len(circ) == 6 and circ[0][0] == 'A':\n",
    "            c=write_a_circ(circ)\n",
    "            sln[sln_index].append('Ok')\n",
    "            path.append(p)\n",
    "            count_elts_path (p,count)\n",
    "            return c\n",
    "            \n",
    "    return ''"
   ]
  },
  {
   "cell_type": "code",
   "execution_count": 541,
   "metadata": {},
   "outputs": [
    {
     "name": "stdout",
     "output_type": "stream",
     "text": [
      "['CE', 'CF', 'BD', 'BF', 'AE', 'AD']\n",
      "ADBFCEA\n",
      "[['CE', 7, 'Ok'], ['CF', 12, 'Ok'], ['BD', 15, 'Ok'], ['CD', 18, 'Vertex of degree 3'], ['BF', 20, 'Ok'], ['DF', 21, 'Vertex of degree 3'], ['AC', 23, 'Vertex of degree 3'], ['DE', 29, 'Small circuit: DECFBD'], ['AE', 32, 'Ok'], ['EF', 35, 'Vertex of degree 3'], ['BE', 43, 'Vertex of degree 3'], ['AB', 45, 'Vertex of degree 3'], ['AF', 46, 'Vertex of degree 3'], ['AD', 55, 'Ok'], ['BC', 57, '--']]\n"
     ]
    }
   ],
   "source": [
    "sln_index=2\n",
    "while sln_index<15:\n",
    "    cond_vertex=is_three_vertex (sln_index,sln,count)\n",
    "    \n",
    "    if not cond_vertex:\n",
    "        cond_circ=contains_small_circuit (sln_index,sln,path)\n",
    "        if not cond_circ:\n",
    "\n",
    "            pr=sln[sln_index][0]\n",
    "            path.append(pr)\n",
    "            sln[sln_index].append('Ok')\n",
    "            count_elts_path (pr,count)\n",
    "            \n",
    "    sln_index+=1\n",
    "print(path)\n",
    "print(cond_circ)\n",
    "print(sln)"
   ]
  },
  {
   "cell_type": "code",
   "execution_count": 545,
   "metadata": {},
   "outputs": [
    {
     "name": "stdout",
     "output_type": "stream",
     "text": [
      "The weights of edges in a graph are shown in the table above. Apply the sorted edges algorithm to the graph. Give your answer as a list of vertices, starting and ending at vertex A. Example: ABCDEFA\n",
      "\n",
      "|    | A   | B   | C   | D   | E   | F   |\n",
      "|----+-----+-----+-----+-----+-----+-----|\n",
      "| A  | --  | 45  | 23  | 55  | 32  | 46  |\n",
      "| B  | 45  | --  | 57  | 15  | 43  | 20  |\n",
      "| C  | 23  | 57  | --  | 18  | 7   | 12  |\n",
      "| D  | 55  | 15  | 18  | --  | 29  | 21  |\n",
      "| E  | 32  | 43  | 7   | 29  | --  | 35  |\n",
      "| F  | 46  | 20  | 12  | 21  | 35  | --  |\n",
      "\n",
      "\u001b[1mSorted Edges Algorithm (a.k.a. Cheapest Link Algorithm):\n",
      "\u001b[0m\n",
      "1. Select the cheapest unused edge in the graph.\n",
      "2. Repeat step 1, adding the cheapest unused edge to the circuit, unless:\n",
      "   a. adding the edge would create a circuit that doesn’t contain all vertices, or\n",
      "   b. adding the edge would give a vertex degree 3.\n",
      "3. Repeat until a circuit containing all vertices is formed.\n",
      "\n",
      "The solution is: \u001b[91mADBFCEA or AECFBDA\u001b[0m\n",
      "\n",
      "To find it, we will order all vertices by its weight and discard those vertices that would create a smaller circuit not containing all elements and the elements that would create a vertex of degree 3. We will stop as soon as we have six edges.\n",
      "\n",
      "Order\tVertex\tWeight\tComment\n",
      "1\tCE\t7\tOk\n",
      "2\tCF\t12\tOk\n",
      "3\tBD\t15\tOk\n",
      "4\tCD\t18\tVertex of degree 3\n",
      "5\tBF\t20\tOk\n",
      "6\tDF\t21\tVertex of degree 3\n",
      "7\tAC\t23\tVertex of degree 3\n",
      "8\tDE\t29\tSmall circuit: DECFBD\n",
      "9\tAE\t32\tOk\n",
      "10\tEF\t35\tVertex of degree 3\n",
      "11\tBE\t43\tVertex of degree 3\n",
      "12\tAB\t45\tVertex of degree 3\n",
      "13\tAF\t46\tVertex of degree 3\n",
      "14\tAD\t55\tOk\n",
      "15\tBC\t57\t--\n"
     ]
    }
   ],
   "source": [
    "from tabulate import tabulate\n",
    "class color:\n",
    "   PURPLE = '\\033[95m'\n",
    "   CYAN = '\\033[96m'\n",
    "   DARKCYAN = '\\033[36m'\n",
    "   BLUE = '\\033[94m'\n",
    "   GREEN = '\\033[92m'\n",
    "   YELLOW = '\\033[93m'\n",
    "   RED = '\\033[91m'\n",
    "   BOLD = '\\033[1m'\n",
    "   UNDERLINE = '\\033[4m'\n",
    "   END = '\\033[0m'\n",
    "\n",
    " \n",
    "    \n",
    "    \n",
    "print('The weights of edges in a graph are shown in the table above. Apply the sorted edges algorithm to the graph. Give your answer as a list of vertices, starting and ending at vertex A. Example: ABCDEFA\\n')\n",
    "print(tabulate(tbl, headers=['', 'A','B','C','D','E','F'], tablefmt='orgtbl'))\n",
    "print('\\n'+color.BOLD+'Sorted Edges Algorithm (a.k.a. Cheapest Link Algorithm):\\n'+color.END)\n",
    "print('1. Select the cheapest unused edge in the graph.')\n",
    "print('2. Repeat step 1, adding the cheapest unused edge to the circuit, unless:')\n",
    "print('   a. adding the edge would create a circuit that doesn’t contain all vertices, or')\n",
    "print('   b. adding the edge would give a vertex degree 3.')\n",
    "print('3. Repeat until a circuit containing all vertices is formed.\\n')\n",
    "\n",
    "\n",
    "\n",
    "\n",
    "\n",
    "print('The solution is: '+color.RED+cond_circ+' or '+reverse(cond_circ)+color.END+'\\n')\n",
    "print('To find it, we will order all vertices by its weight and discard those vertices that would create a smaller circuit not containing all elements and the elements that would create a vertex of degree 3. We will stop as soon as we have six edges.\\n')\n",
    "cnt=1\n",
    "print('Order'+'\\t'+'Vertex'+'\\t'+'Weight'+'\\t'+'Comment')\n",
    "for l in sln:\n",
    "    print(str(cnt)+'\\t'+l[0]+'\\t'+str(l[1])+'\\t'+l[2])\n",
    "    cnt+=1"
   ]
  },
  {
   "cell_type": "code",
   "execution_count": null,
   "metadata": {},
   "outputs": [],
   "source": []
  }
 ],
 "metadata": {
  "kernelspec": {
   "display_name": "Python 3",
   "language": "python",
   "name": "python3"
  },
  "language_info": {
   "codemirror_mode": {
    "name": "ipython",
    "version": 3
   },
   "file_extension": ".py",
   "mimetype": "text/x-python",
   "name": "python",
   "nbconvert_exporter": "python",
   "pygments_lexer": "ipython3",
   "version": "3.7.3"
  }
 },
 "nbformat": 4,
 "nbformat_minor": 2
}
