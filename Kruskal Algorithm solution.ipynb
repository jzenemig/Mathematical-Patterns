{
 "cells": [
  {
   "cell_type": "markdown",
   "metadata": {},
   "source": [
    "# Kruskal Algorithm\n",
    "We want to solve a problem like this one:\n",
    "![title](Kruskal.png)"
   ]
  },
  {
   "cell_type": "code",
   "execution_count": 112,
   "metadata": {},
   "outputs": [
    {
     "name": "stdout",
     "output_type": "stream",
     "text": [
      "|    | A   | B   | C   | D   | E   |\n",
      "|----+-----+-----+-----+-----+-----|\n",
      "| A  | --  | 14  | 12  | 15  | 1   |\n",
      "| B  | 14  | --  | 2   | 5   | 9   |\n",
      "| C  | 12  | 2   | --  | 4   | 7   |\n",
      "| D  | 15  | 5   | 4   | --  | 10  |\n",
      "| E  | 1   | 9   | 7   | 10  | --  |\n"
     ]
    }
   ],
   "source": [
    "first_row=[14,12,15,1]\n",
    "second_row=[2,5,9]\n",
    "third_row=[4,7]\n",
    "fourth_row=[10]\n",
    "\n",
    "\n",
    "row1=['A','--']+first_row\n",
    "row2=['B']+[row1[2]]+['--']+second_row\n",
    "row3=['C']+[row1[3],row2[3]]+['--']+third_row\n",
    "row4=['D']+[row1[4],row2[4],row3[4]]+['--']+fourth_row\n",
    "row5=['E']+[row1[5],row2[5],row3[5],row4[5]]+['--']\n",
    "\n",
    "tbl=[row1, row2,row3,row4,row5]   \n",
    "\n",
    "from tabulate import tabulate\n",
    "print(tabulate(tbl, headers=['', 'A','B','C','D','E'], tablefmt='orgtbl'))"
   ]
  },
  {
   "cell_type": "code",
   "execution_count": 113,
   "metadata": {},
   "outputs": [],
   "source": [
    "# Create a list of lists\n",
    "def make_l_a (row):\n",
    "    a=list('EDCBA')\n",
    "    while len(a)-len(row)>1:\n",
    "        a.pop()\n",
    "    l=a.pop()\n",
    "    a.reverse()\n",
    "    return l,a,row\n",
    "\n",
    "def add_to_list (l,a, row):\n",
    "    while len(a):\n",
    "        d.append([l+a.pop(),row.pop()])\n",
    "        \n",
    "def add_row_to_list(row):\n",
    "    l,a,row=make_l_a(row)\n",
    "    add_to_list (l,a,row)\n",
    "        \n",
    "d=[]\n",
    "add_row_to_list(first_row)\n",
    "add_row_to_list(second_row)\n",
    "add_row_to_list(third_row)\n",
    "add_row_to_list(fourth_row)\n",
    "\n",
    "sorted_d = sorted(d, key=lambda li: li[1])"
   ]
  },
  {
   "cell_type": "code",
   "execution_count": 114,
   "metadata": {},
   "outputs": [
    {
     "name": "stdout",
     "output_type": "stream",
     "text": [
      "['AE', 'BC']\n",
      "[['AE', 1, 'Ok'], ['BC', 2, 'Ok'], ['CD', 4], ['BD', 5], ['CE', 7], ['BE', 9], ['DE', 10], ['AC', 12], ['AB', 14], ['AD', 15]]\n",
      "{'A': 0, 'B': 0, 'C': 0, 'D': 0, 'E': 0}\n"
     ]
    }
   ],
   "source": [
    "path=[sorted_d[0][0],sorted_d[1][0]]\n",
    "\n",
    "sln=sorted_d\n",
    "sln[0].append('Ok')\n",
    "sln[1].append('Ok')\n",
    "\n",
    "count={}\n",
    "for h in 'ABCDE':\n",
    "    count[h]=0\n",
    "    \n",
    "print(path)\n",
    "print(sln)\n",
    "print(count)\n"
   ]
  },
  {
   "cell_type": "code",
   "execution_count": 115,
   "metadata": {},
   "outputs": [],
   "source": [
    "def count_elts_path (pair,count):\n",
    "    for r in pair:\n",
    "        count[r]=count[r]+1\n",
    "count_elts_path (path[0],count)    \n",
    "count_elts_path (path[1],count)  \n",
    "\n",
    "\n",
    "def reverse (pair):\n",
    "    a=list(pair)\n",
    "    a.reverse()\n",
    "    return ''.join(a)\n",
    "\n",
    "def all_in_path(count):\n",
    "    ct=[0,0,0,0] #count of the connexions per vertex\n",
    "    for h in count:\n",
    "        if count[h]>0:\n",
    "            ct[count[h]-1]+=1\n",
    "    if ct == [4,0,0,1] or ct == [3,1,1,0] or ct == [2,3,0,0]:\n",
    "        return True\n",
    "    else:\n",
    "        return False"
   ]
  },
  {
   "cell_type": "code",
   "execution_count": 117,
   "metadata": {},
   "outputs": [],
   "source": [
    "def build_circuit(small_circ,new_path):\n",
    "    for pair in 5*new_path:\n",
    "        rev_pair=reverse(pair)\n",
    "        \n",
    "        condition_1=pair not in small_circ\n",
    "        condition_2=rev_pair not in small_circ\n",
    "        \n",
    "        if condition_1 and condition_2:\n",
    "            if pair[0]==small_circ[-1][1]:\n",
    "                small_circ.append(pair)\n",
    "            elif rev_pair[0]==small_circ[-1][1]:\n",
    "                small_circ.append(rev_pair)\n",
    "        if small_circ[0][0] == small_circ[-1][-1]:\n",
    "            return small_circ\n",
    "    return []\n",
    "\n",
    "def write_a_circ(circ):\n",
    "    circuit=[circ[0][0]]\n",
    "    for c in circ:\n",
    "        circuit.append(c[1])\n",
    "    return ''.join(circuit)\n",
    "\n",
    "def contains_small_circuit (sln_index,sln,path,count):\n",
    "    new_path=[sln[sln_index][0]]+path\n",
    "    for p in new_path:\n",
    "        circ=build_circuit([p],new_path)\n",
    "        if all_in_path(count):\n",
    "            sln[sln_index].append('--')\n",
    "            return True\n",
    "        elif 0<len(circ)<6:\n",
    "            c=write_a_circ(circ)\n",
    "            \n",
    "            sln[sln_index].append('Small circuit: '+ c)\n",
    "            return c\n",
    "            \n",
    "    return ''"
   ]
  },
  {
   "cell_type": "code",
   "execution_count": 118,
   "metadata": {},
   "outputs": [
    {
     "name": "stdout",
     "output_type": "stream",
     "text": [
      "{'A': 1, 'B': 1, 'C': 2, 'D': 1, 'E': 1}\n",
      "{'A': 1, 'B': 1, 'C': 3, 'D': 1, 'E': 2}\n",
      "['AE', 'BC', 'CD', 'CE']\n",
      "True\n",
      "[['AE', 1, 'Ok'], ['BC', 2, 'Ok'], ['CD', 4, 'Ok'], ['BD', 5, 'Small circuit: BDCB'], ['CE', 7, 'Ok'], ['BE', 9, '--'], ['DE', 10, '--'], ['AC', 12, '--'], ['AB', 14, '--'], ['AD', 15, '--']]\n",
      "{'A': 1, 'B': 1, 'C': 3, 'D': 1, 'E': 2}\n"
     ]
    }
   ],
   "source": [
    "sln_index=2\n",
    "while sln_index<10:\n",
    "    \n",
    "    \n",
    "\n",
    "    cond_circ=contains_small_circuit (sln_index,sln,path,count)\n",
    "    if not cond_circ:\n",
    "\n",
    "        pr=sln[sln_index][0]\n",
    "        path.append(pr)\n",
    "        sln[sln_index].append('Ok')\n",
    "        count_elts_path (pr,count)\n",
    "        print(count)\n",
    "\n",
    "    sln_index+=1\n",
    "print(path)\n",
    "print(cond_circ)\n",
    "print(sln)\n",
    "print(count)"
   ]
  },
  {
   "cell_type": "code",
   "execution_count": 125,
   "metadata": {},
   "outputs": [
    {
     "name": "stdout",
     "output_type": "stream",
     "text": [
      "Find the minimum cost spanning tree on the graph using Kruskal's algorithm. Which of the edges are included in the minimum cost tree?\n",
      "\n",
      "|    | A   | B   | C   | D   | E   |\n",
      "|----+-----+-----+-----+-----+-----|\n",
      "| A  | --  | 14  | 12  | 15  | 1   |\n",
      "| B  | 14  | --  | 2   | 5   | 9   |\n",
      "| C  | 12  | 2   | --  | 4   | 7   |\n",
      "| D  | 15  | 5   | 4   | --  | 10  |\n",
      "| E  | 1   | 9   | 7   | 10  | --  |\n",
      "\n",
      "\u001b[1mKruskal’s Algorithm:\n",
      "\u001b[0m\n",
      "1. Select the cheapest unused edge in the graph.\n",
      "2. Repeat step 1, adding the cheapest unused edge to the circuit, unless:\n",
      "   a. adding the edge would create a circuit.\n",
      "3. Repeat until a spanning tree is formed​, ie all vertices are connected.\n",
      "\n",
      "The solution is: \u001b[91mAE, BC, CD, CE\u001b[0m\n",
      "\n",
      "To find it, we will order all vertices by its weight and discard those vertices that would create a circuit. We will stop as soon as we have all five vertices connected.\n",
      "\n",
      "Order\tVertex\tWeight\tComment\n",
      "1\tAE\t1\tOk\n",
      "2\tBC\t2\tOk\n",
      "3\tCD\t4\tOk\n",
      "4\tBD\t5\tSmall circuit: BDCB\n",
      "5\tCE\t7\tOk\n",
      "6\tBE\t9\t--\n",
      "7\tDE\t10\t--\n",
      "8\tAC\t12\t--\n",
      "9\tAB\t14\t--\n",
      "10\tAD\t15\t--\n"
     ]
    }
   ],
   "source": [
    "from tabulate import tabulate\n",
    "class color:\n",
    "   PURPLE = '\\033[95m'\n",
    "   CYAN = '\\033[96m'\n",
    "   DARKCYAN = '\\033[36m'\n",
    "   BLUE = '\\033[94m'\n",
    "   GREEN = '\\033[92m'\n",
    "   YELLOW = '\\033[93m'\n",
    "   RED = '\\033[91m'\n",
    "   BOLD = '\\033[1m'\n",
    "   UNDERLINE = '\\033[4m'\n",
    "   END = '\\033[0m'\n",
    "\n",
    " \n",
    "    \n",
    "    \n",
    "print(\"Find the minimum cost spanning tree on the graph using Kruskal's algorithm. Which of the edges are included in the minimum cost tree?\\n\")\n",
    "print(tabulate(tbl, headers=['', 'A','B','C','D','E','F'], tablefmt='orgtbl'))\n",
    "print('\\n'+color.BOLD+'Kruskal’s Algorithm:\\n'+color.END)\n",
    "print('1. Select the cheapest unused edge in the graph.')\n",
    "print('2. Repeat step 1, adding the cheapest unused edge to the circuit, unless:')\n",
    "print('   a. adding the edge would create a circuit.')\n",
    "\n",
    "print('3. Repeat until a spanning tree is formed​, ie all vertices are connected.\\n')\n",
    "\n",
    "\n",
    "\n",
    "\n",
    "\n",
    "print('The solution is: '+color.RED+', '.join(path)+color.END+'\\n')\n",
    "print('To find it, we will order all vertices by its weight and discard those vertices that would create a circuit. We will stop as soon as we have all five vertices connected.\\n')\n",
    "cnt=1\n",
    "print('Order'+'\\t'+'Vertex'+'\\t'+'Weight'+'\\t'+'Comment')\n",
    "for l in sln:\n",
    "    print(str(cnt)+'\\t'+l[0]+'\\t'+str(l[1])+'\\t'+l[2])\n",
    "    cnt+=1"
   ]
  },
  {
   "cell_type": "code",
   "execution_count": null,
   "metadata": {},
   "outputs": [],
   "source": []
  },
  {
   "cell_type": "code",
   "execution_count": null,
   "metadata": {},
   "outputs": [],
   "source": []
  },
  {
   "cell_type": "code",
   "execution_count": null,
   "metadata": {},
   "outputs": [],
   "source": []
  },
  {
   "cell_type": "code",
   "execution_count": null,
   "metadata": {},
   "outputs": [],
   "source": []
  }
 ],
 "metadata": {
  "kernelspec": {
   "display_name": "Python 3",
   "language": "python",
   "name": "python3"
  },
  "language_info": {
   "codemirror_mode": {
    "name": "ipython",
    "version": 3
   },
   "file_extension": ".py",
   "mimetype": "text/x-python",
   "name": "python",
   "nbconvert_exporter": "python",
   "pygments_lexer": "ipython3",
   "version": "3.7.3"
  }
 },
 "nbformat": 4,
 "nbformat_minor": 2
}
